{
 "cells": [
  {
   "cell_type": "code",
   "execution_count": 11,
   "metadata": {},
   "outputs": [],
   "source": [
    "import warnings\n",
    "warnings.filterwarnings(\"ignore\")"
   ]
  },
  {
   "cell_type": "markdown",
   "metadata": {},
   "source": [
    "## T5 Test\n"
   ]
  },
  {
   "cell_type": "code",
   "execution_count": 12,
   "metadata": {},
   "outputs": [],
   "source": [
    "from transformers import T5ForConditionalGeneration, T5Tokenizer\n",
    "\n",
    "# Load model and tokenizer\n",
    "model_path = \"../models/t5_squad_finetuned2\"\n",
    "loaded_model_15 = T5ForConditionalGeneration.from_pretrained(model_path)\n",
    "loaded_tokenizer_15 = T5Tokenizer.from_pretrained(model_path)"
   ]
  },
  {
   "cell_type": "code",
   "execution_count": 18,
   "metadata": {},
   "outputs": [
    {
     "name": "stdout",
     "output_type": "stream",
     "text": [
      "\n",
      "Example Prediction:\n",
      "Question: What is one popular application of machine learning?\n",
      "Context: Machine learning is a subset of artificial intelligence that enables computers to learn from data without being explicitly programmed. It involves various techniques, such as supervised learning, unsupervised learning, and reinforcement learning. One of the most popular applications of machine learning is natural language processing, which includes tasks like translation, sentiment analysis, and question answering.\n",
      "Predicted Answer: natural language processing\n"
     ]
    }
   ],
   "source": [
    "from transformers import T5Tokenizer, T5ForConditionalGeneration\n",
    "\n",
    "\n",
    "example_question = \"What is one popular application of machine learning?\"\n",
    "example_context = \"Machine learning is a subset of artificial intelligence that enables computers to learn from data without being explicitly programmed. It involves various techniques, such as supervised learning, unsupervised learning, and reinforcement learning. One of the most popular applications of machine learning is natural language processing, which includes tasks like translation, sentiment analysis, and question answering.\"\n",
    "\n",
    "\n",
    "input_text = f\"question: {example_question} context: {example_context}\"\n",
    "\n",
    "\n",
    "inputs = loaded_tokenizer_15(input_text, return_tensors=\"pt\", max_length=512, truncation=True)\n",
    "\n",
    "outputs = loaded_model_15.generate(**inputs, max_length=64, num_beams=4)\n",
    "predicted_answer = loaded_tokenizer_15.decode(outputs[0], skip_special_tokens=True)\n",
    "\n",
    "print(\"\\nExample Prediction:\")\n",
    "print(f\"Question: {example_question}\")\n",
    "print(f\"Context: {example_context}\")\n",
    "print(f\"Predicted Answer: {predicted_answer}\")"
   ]
  },
  {
   "cell_type": "markdown",
   "metadata": {},
   "source": [
    "##  BERT Test"
   ]
  },
  {
   "cell_type": "code",
   "execution_count": 14,
   "metadata": {},
   "outputs": [],
   "source": [
    "from transformers import AutoModelForQuestionAnswering, AutoTokenizer\n",
    "\n",
    "model_path = \"../models/bert_squad_finetuned\"\n",
    "loaded_model_bert = AutoModelForQuestionAnswering.from_pretrained(model_path)\n",
    "loaded_tokenizer_bert = AutoTokenizer.from_pretrained(model_path)"
   ]
  },
  {
   "cell_type": "code",
   "execution_count": 15,
   "metadata": {},
   "outputs": [
    {
     "name": "stderr",
     "output_type": "stream",
     "text": [
      "Device set to use mps:0\n"
     ]
    }
   ],
   "source": [
    "from transformers import pipeline\n",
    "\n",
    "qa_pipeline = pipeline(\"question-answering\", model=loaded_model_bert, tokenizer=loaded_tokenizer_bert)\n"
   ]
  },
  {
   "cell_type": "code",
   "execution_count": 17,
   "metadata": {},
   "outputs": [
    {
     "name": "stdout",
     "output_type": "stream",
     "text": [
      "\n",
      "Example Prediction:\n",
      "Question: What is one popular application of machine learning?\n",
      "Context: Machine learning is a subset of artificial intelligence that enables computers to learn from data without being explicitly programmed. It involves various techniques, such as supervised learning, unsupervised learning, and reinforcement learning. One of the most popular applications of machine learning is natural language processing, which includes tasks like translation, sentiment analysis, and question answering.\n",
      "Predicted Answer: natural language processing\n"
     ]
    }
   ],
   "source": [
    "example_question = \"What is one popular application of machine learning?\"\n",
    "example_context = \"Machine learning is a subset of artificial intelligence that enables computers to learn from data without being explicitly programmed. It involves various techniques, such as supervised learning, unsupervised learning, and reinforcement learning. One of the most popular applications of machine learning is natural language processing, which includes tasks like translation, sentiment analysis, and question answering.\"\n",
    "example_result = qa_pipeline({\"question\": example_question, \"context\": example_context})\n",
    "\n",
    "print(\"\\nExample Prediction:\")\n",
    "print(f\"Question: {example_question}\")\n",
    "print(f\"Context: {example_context}\")\n",
    "print(f\"Predicted Answer: {example_result['answer']}\")"
   ]
  },
  {
   "cell_type": "code",
   "execution_count": null,
   "metadata": {},
   "outputs": [],
   "source": []
  }
 ],
 "metadata": {
  "kernelspec": {
   "display_name": "base",
   "language": "python",
   "name": "python3"
  },
  "language_info": {
   "codemirror_mode": {
    "name": "ipython",
    "version": 3
   },
   "file_extension": ".py",
   "mimetype": "text/x-python",
   "name": "python",
   "nbconvert_exporter": "python",
   "pygments_lexer": "ipython3",
   "version": "3.11.7"
  }
 },
 "nbformat": 4,
 "nbformat_minor": 2
}

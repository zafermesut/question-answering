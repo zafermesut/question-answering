{
 "cells": [
  {
   "cell_type": "code",
   "execution_count": 6,
   "metadata": {},
   "outputs": [],
   "source": [
    "import warnings\n",
    "warnings.filterwarnings(\"ignore\")"
   ]
  },
  {
   "cell_type": "markdown",
   "metadata": {},
   "source": [
    "## T5 Test\n"
   ]
  },
  {
   "cell_type": "code",
   "execution_count": 7,
   "metadata": {},
   "outputs": [],
   "source": [
    "from transformers import T5ForConditionalGeneration, T5Tokenizer\n",
    "\n",
    "# Load model and tokenizer\n",
    "model_path = \"../models/t5_squad_finetuned2\"\n",
    "loaded_model_15 = T5ForConditionalGeneration.from_pretrained(model_path)\n",
    "loaded_tokenizer_15 = T5Tokenizer.from_pretrained(model_path)\n",
    "\n",
    "def t5_predict(question, context, true_answer):\n",
    "    input_text = f\"question: {question} context: {context}\"\n",
    "    inputs = loaded_tokenizer_15(input_text, return_tensors=\"pt\", max_length=512, truncation=True)\n",
    "    outputs = loaded_model_15.generate(**inputs, max_length=64, num_beams=4)\n",
    "    predicted_answer = loaded_tokenizer_15.decode(outputs[0], skip_special_tokens=True)\n",
    "\n",
    "    print(f\"Question: {question}\")\n",
    "    print(f\"Context: {context}\")\n",
    "    print(f\"True Answer: {true_answer}\")\n",
    "    print(f\"Predicted Answer: {predicted_answer}\")"
   ]
  },
  {
   "cell_type": "code",
   "execution_count": 8,
   "metadata": {},
   "outputs": [
    {
     "name": "stdout",
     "output_type": "stream",
     "text": [
      "Question: What is one popular application of machine learning?\n",
      "Context: Machine learning is a subset of artificial intelligence that enables computers to learn from data without being explicitly programmed. It involves various techniques, such as supervised learning, unsupervised learning, and reinforcement learning. One of the most popular applications of machine learning is natural language processing, which includes tasks like translation, sentiment analysis, and question answering.\n",
      "True Answer: Natural language processing\n",
      "Predicted Answer: natural language processing\n"
     ]
    }
   ],
   "source": [
    "example_question = \"What is one popular application of machine learning?\"\n",
    "example_context = \"Machine learning is a subset of artificial intelligence that enables computers to learn from data without being explicitly programmed. It involves various techniques, such as supervised learning, unsupervised learning, and reinforcement learning. One of the most popular applications of machine learning is natural language processing, which includes tasks like translation, sentiment analysis, and question answering.\"\n",
    "true_answer = \"Natural language processing\"\n",
    "t5_predict(example_question, example_context, true_answer)"
   ]
  },
  {
   "cell_type": "markdown",
   "metadata": {},
   "source": [
    "##  BERT Test"
   ]
  },
  {
   "cell_type": "code",
   "execution_count": 9,
   "metadata": {},
   "outputs": [
    {
     "name": "stderr",
     "output_type": "stream",
     "text": [
      "Device set to use mps:0\n"
     ]
    }
   ],
   "source": [
    "from transformers import AutoModelForQuestionAnswering, AutoTokenizer\n",
    "from transformers import pipeline\n",
    "model_path = \"../models/bert_squad_finetuned\"\n",
    "loaded_model_bert = AutoModelForQuestionAnswering.from_pretrained(model_path)\n",
    "loaded_tokenizer_bert = AutoTokenizer.from_pretrained(model_path)\n",
    "\n",
    "qa_pipeline = pipeline(\"question-answering\", model=loaded_model_bert, tokenizer=loaded_tokenizer_bert)\n",
    "\n",
    "\n",
    "def bert_predict(question, context, true_answer):\n",
    "    qa_pipeline = pipeline(\"question-answering\", model=loaded_model_bert, tokenizer=loaded_tokenizer_bert)\n",
    "    example_result = qa_pipeline({\"question\": question, \"context\": context})\n",
    "    print(f\"Question: {question}\")\n",
    "    print(f\"Context: {context}\")\n",
    "    print(f\"True Answer: {true_answer}\")\n",
    "    print(f\"Predicted Answer: {example_result['answer']}\")\n"
   ]
  },
  {
   "cell_type": "code",
   "execution_count": 10,
   "metadata": {},
   "outputs": [
    {
     "name": "stderr",
     "output_type": "stream",
     "text": [
      "Device set to use mps:0\n"
     ]
    },
    {
     "name": "stdout",
     "output_type": "stream",
     "text": [
      "Question: What is one popular application of machine learning?\n",
      "Context: Machine learning is a subset of artificial intelligence that enables computers to learn from data without being explicitly programmed. It involves various techniques, such as supervised learning, unsupervised learning, and reinforcement learning. One of the most popular applications of machine learning is natural language processing, which includes tasks like translation, sentiment analysis, and question answering.\n",
      "True Answer: Natural language processing\n",
      "Predicted Answer: natural language processing\n"
     ]
    }
   ],
   "source": [
    "example_question = \"What is one popular application of machine learning?\"\n",
    "example_context = \"Machine learning is a subset of artificial intelligence that enables computers to learn from data without being explicitly programmed. It involves various techniques, such as supervised learning, unsupervised learning, and reinforcement learning. One of the most popular applications of machine learning is natural language processing, which includes tasks like translation, sentiment analysis, and question answering.\"\n",
    "true_answer = \"Natural language processing\"\n",
    "bert_predict(example_question, example_context, true_answer)"
   ]
  },
  {
   "cell_type": "code",
   "execution_count": 13,
   "metadata": {},
   "outputs": [
    {
     "name": "stdout",
     "output_type": "stream",
     "text": [
      "=== T5 Model Results ===\n",
      "--------------------------------------------------\n",
      "Question: When was the Eiffel Tower constructed?\n",
      "Context: The Eiffel Tower, located in Paris, France, was constructed in 1889 as the entrance arch for the 1889 World's Fair. It is one of the most visited monuments in the world and stands at a height of 330 meters.\n",
      "True Answer: 1889\n",
      "Predicted Answer: 1889\n",
      "--------------------------------------------------\n",
      "Question: Where does photosynthesis primarily occur?\n",
      "Context: Photosynthesis is the process by which green plants and some other organisms use sunlight to synthesize food from carbon dioxide and water. It primarily occurs in the chloroplasts of plant cells.\n",
      "True Answer: chloroplasts\n",
      "Predicted Answer: chloroplasts of plant cells\n",
      "--------------------------------------------------\n",
      "Question: How many books are there in the Harry Potter series?\n",
      "Context: J.K. Rowling is the author of the famous Harry Potter series, which consists of seven books. The series has sold over 500 million copies worldwide and has been translated into more than 80 languages.\n",
      "True Answer: seven\n",
      "Predicted Answer: seven\n",
      "--------------------------------------------------\n",
      "Question: Which continent does the Amazon River flow through?\n",
      "Context: The Amazon River is the second-longest river in the world and has the largest drainage basin. It flows through South America, primarily Brazil, and is home to a diverse range of flora and fauna.\n",
      "True Answer: South America\n",
      "Predicted Answer: South America\n",
      "--------------------------------------------------\n"
     ]
    }
   ],
   "source": [
    "# Load the test data\n",
    "import json\n",
    "\n",
    "with open('data.json', 'r') as file:\n",
    "    test_data = json.load(file)\n",
    "\n",
    "# Test both models on all examples\n",
    "print(\"=== T5 Model Results ===\")\n",
    "print(\"-\" * 50)\n",
    "for example in test_data:\n",
    "    t5_predict(example['question'], example['context'], example['true_answer'])\n",
    "    print(\"-\" * 50)\n"
   ]
  },
  {
   "cell_type": "code",
   "execution_count": 14,
   "metadata": {},
   "outputs": [
    {
     "name": "stderr",
     "output_type": "stream",
     "text": [
      "Device set to use mps:0\n",
      "Device set to use mps:0\n",
      "Device set to use mps:0\n",
      "Device set to use mps:0\n"
     ]
    },
    {
     "name": "stdout",
     "output_type": "stream",
     "text": [
      "\n",
      "=== BERT Model Results ===\n",
      "--------------------------------------------------\n",
      "Question: When was the Eiffel Tower constructed?\n",
      "Context: The Eiffel Tower, located in Paris, France, was constructed in 1889 as the entrance arch for the 1889 World's Fair. It is one of the most visited monuments in the world and stands at a height of 330 meters.\n",
      "True Answer: 1889\n",
      "Predicted Answer: 1889\n",
      "--------------------------------------------------\n",
      "Question: Where does photosynthesis primarily occur?\n",
      "Context: Photosynthesis is the process by which green plants and some other organisms use sunlight to synthesize food from carbon dioxide and water. It primarily occurs in the chloroplasts of plant cells.\n",
      "True Answer: chloroplasts\n",
      "Predicted Answer: the chloroplasts of plant cells\n",
      "--------------------------------------------------\n",
      "Question: How many books are there in the Harry Potter series?\n",
      "Context: J.K. Rowling is the author of the famous Harry Potter series, which consists of seven books. The series has sold over 500 million copies worldwide and has been translated into more than 80 languages.\n",
      "True Answer: seven\n",
      "Predicted Answer: seven\n",
      "--------------------------------------------------\n",
      "Question: Which continent does the Amazon River flow through?\n",
      "Context: The Amazon River is the second-longest river in the world and has the largest drainage basin. It flows through South America, primarily Brazil, and is home to a diverse range of flora and fauna.\n",
      "True Answer: South America\n",
      "Predicted Answer: South America\n",
      "--------------------------------------------------\n"
     ]
    }
   ],
   "source": [
    "print(\"\\n=== BERT Model Results ===\")\n",
    "print(\"-\" * 50)\n",
    "for example in test_data:\n",
    "    bert_predict(example['question'], example['context'], example['true_answer'])\n",
    "    print(\"-\" * 50)"
   ]
  },
  {
   "cell_type": "code",
   "execution_count": null,
   "metadata": {},
   "outputs": [],
   "source": []
  }
 ],
 "metadata": {
  "kernelspec": {
   "display_name": "base",
   "language": "python",
   "name": "python3"
  },
  "language_info": {
   "codemirror_mode": {
    "name": "ipython",
    "version": 3
   },
   "file_extension": ".py",
   "mimetype": "text/x-python",
   "name": "python",
   "nbconvert_exporter": "python",
   "pygments_lexer": "ipython3",
   "version": "3.11.7"
  }
 },
 "nbformat": 4,
 "nbformat_minor": 2
}
